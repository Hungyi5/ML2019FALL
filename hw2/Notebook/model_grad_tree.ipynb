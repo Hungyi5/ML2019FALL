{
 "cells": [
  {
   "cell_type": "markdown",
   "metadata": {},
   "source": [
    "**To Do list**\n",
    "\n",
    "    1.Data Cleaning\n",
    "        (NA)\n",
    "        \n",
    "    2.Feature engineering\n",
    "\n",
    "    3.DNN"
   ]
  },
  {
   "cell_type": "code",
   "execution_count": 1,
   "metadata": {
    "colab": {},
    "colab_type": "code",
    "id": "lMOeb2gcNWdB"
   },
   "outputs": [],
   "source": [
    "import numpy as np\n",
    "import pandas as pd\n",
    "import sys\n",
    "\n",
    "from sklearn.ensemble import GradientBoostingClassifier\n"
   ]
  },
  {
   "cell_type": "markdown",
   "metadata": {
    "colab_type": "text",
    "id": "mLvVaOeANqmH"
   },
   "source": [
    "We only use one-hot-encoding feature here\n",
    "\n",
    "[Shell script usage](https://hackmd.io/@NeYbO-fDS5-UW6DQTmpVBA/HJIiFdZur?fbclid=IwAR0zGWEENLKgk3pmyng7CzUloZsHD0DDtYsNzumXzI2DIPZ9aoaluq-5WDA)"
   ]
  },
  {
   "cell_type": "code",
   "execution_count": 2,
   "metadata": {
    "colab": {},
    "colab_type": "code",
    "id": "U4uvD-jLNrWM"
   },
   "outputs": [],
   "source": [
    "def load_data(path_x_train, path_y_train, path_test):\n",
    "    x_train = pd.read_csv(path_x_train)\n",
    "    x_test = pd.read_csv(path_test)\n",
    "\n",
    "    x_train = x_train.values\n",
    "    x_test = x_test.values\n",
    "\n",
    "    y_train = pd.read_csv(path_y_train, header = None)\n",
    "    y_train = y_train.values\n",
    "    y_train = y_train.reshape(-1)\n",
    "\n",
    "    return x_train, y_train, x_test\n"
   ]
  },
  {
   "cell_type": "code",
   "execution_count": 4,
   "metadata": {
    "colab": {},
    "colab_type": "code",
    "id": "XvUJFu5gP1ac"
   },
   "outputs": [],
   "source": [
    "def normalize(x_train, x_test):\n",
    "    \n",
    "    x_all = np.concatenate((x_train, x_test), axis = 0)\n",
    "    mean = np.mean(x_all, axis = 0)\n",
    "    std = np.std(x_all, axis = 0)\n",
    "\n",
    "    index = [0, 1, 3, 4, 5,106,107,108]\n",
    "    mean_vec = np.zeros(x_all.shape[1])\n",
    "    std_vec = np.ones(x_all.shape[1])\n",
    "    mean_vec[index] = mean[index]\n",
    "    std_vec[index] = std[index]\n",
    "\n",
    "    x_all_nor = (x_all - mean_vec) / std_vec\n",
    "\n",
    "    x_train_nor = x_all_nor[0:x_train.shape[0]]\n",
    "    x_test_nor = x_all_nor[x_train.shape[0]:]\n",
    "\n",
    "    return x_train_nor, x_test_nor"
   ]
  },
  {
   "cell_type": "code",
   "execution_count": 5,
   "metadata": {},
   "outputs": [
    {
     "data": {
      "text/plain": [
       "(32561, 109)"
      ]
     },
     "execution_count": 5,
     "metadata": {},
     "output_type": "execute_result"
    }
   ],
   "source": [
    "if __name__ == '__main__':\n",
    "    x_train, y_train, x_test = load_data(sys.argv[1], sys.argv[2], sys.argv[3])\n",
    "    x_train = np.column_stack((x_train, x_train[::,5]**2, 1/x_train[::,5]))\n",
    "    x_test = np.column_stack((x_test, x_test[::,5]**2, 1/x_test[::,5]))\n",
    "\n",
    "    for i in [3,4]:\n",
    "        x_train[::,i] = x_train[::,i] + 1\n",
    "        x_test[::,i] = x_test[::,i] + 1\n",
    "    train_capital_rate = x_train[::,i] / (x_train[::,3]+x_train[::,4])\n",
    "    x_train = np.column_stack((x_train, train_capital_rate))\n",
    "    test_capital_rate = x_test[::,i] / (x_test[::,3]+x_test[::,4])\n",
    "    x_test = np.column_stack((x_test, test_capital_rate))\n",
    "    # x_train, x_test = normalize(x_train, x_test)\n",
    "    \n",
    "    # Train\n",
    "    clf = GradientBoostingClassifier(n_estimators=100, learning_rate=1.0,\n",
    "    max_depth=2, random_state=0,subsample =0.8)\n",
    "    clf.fit(x_train, y_train)\n",
    "    pred_y = clf.predict(x_test)\n",
    "\n",
    "    output = zip(list(range(1,len(x_test)+1)), pred_y.ravel())\n",
    "    output = pd.DataFrame(output, columns = ['id','label'])\n",
    "    output_name = sys.argv[4]\n",
    "    output.to_csv(output_name, index=False)"
   ]
  },
  {
   "cell_type": "raw",
   "metadata": {},
   "source": [
    "from sklearn.svm import SVC\n",
    "clf = SVC(gamma='auto')\n",
    "clf.fit(cv_X_train, cv_y_train)\n",
    "\n",
    "print(\"train: \",clf.score(cv_X_train, cv_y_train))\n",
    "print(\"test: \",clf.score(cv_X_test, cv_y_test))"
   ]
  },
  {
   "cell_type": "raw",
   "metadata": {},
   "source": [
    "from sklearn.svm import SVC\n",
    "clf = SVC(gamma='auto')\n",
    "clf.fit(cv_X_train, cv_y_train)\n",
    "\n",
    "print(\"train: \",clf.score(cv_X_train, cv_y_train))\n",
    "print(\"test: \",clf.score(cv_X_test, cv_y_test))"
   ]
  },
  {
   "cell_type": "raw",
   "metadata": {},
   "source": [
    "from sklearn.linear_model import LogisticRegression\n",
    "clf = LogisticRegression(random_state=0, solver='saga',\n",
    "                         penalty ='l1',\n",
    "#                          l1_ratio = 0.1,\n",
    "                         tol = 1e-6,\n",
    "                         multi_class='ovr').fit(cv_X_train, cv_y_train)\n",
    "\n",
    "\n",
    "print(\"train: \",clf.score(cv_X_train, cv_y_train))\n",
    "print(\"test: \",clf.score(cv_X_test, cv_y_test))"
   ]
  },
  {
   "cell_type": "markdown",
   "metadata": {
    "colab_type": "text",
    "id": "w3aDCdTxXo-B"
   },
   "source": [
    "### Tip for math problem\n",
    "[p1](https://people.eecs.berkeley.edu/~jrs/189/exam/mids14.pdf)  \n",
    "[p2&3](https://people.eecs.berkeley.edu/~jordan/courses/260-spring10/other-readings/chapter13.pdf)  \n",
    "[p3](https://stats.stackexchange.com/questions/351549/maximum-likelihood-estimators-multivariate-gaussian)"
   ]
  }
 ],
 "metadata": {
  "colab": {
   "collapsed_sections": [],
   "name": "MLhw2.ipynb",
   "provenance": []
  },
  "kernelspec": {
   "display_name": "Python [conda env:python3.6] *",
   "language": "python",
   "name": "conda-env-python3.6-py"
  },
  "language_info": {
   "codemirror_mode": {
    "name": "ipython",
    "version": 3
   },
   "file_extension": ".py",
   "mimetype": "text/x-python",
   "name": "python",
   "nbconvert_exporter": "python",
   "pygments_lexer": "ipython3",
   "version": "3.6.9"
  }
 },
 "nbformat": 4,
 "nbformat_minor": 1
}
