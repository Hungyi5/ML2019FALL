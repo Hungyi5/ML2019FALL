{
 "cells": [
  {
   "cell_type": "markdown",
   "metadata": {
    "colab_type": "text",
    "id": "AeZtEkZdNMGg"
   },
   "source": [
    "## Can we add regularization term in generative models?\n",
    "\n",
    "**Refers to HW1 reports**\n",
    "\n"
   ]
  },
  {
   "cell_type": "code",
   "execution_count": 1,
   "metadata": {
    "colab": {},
    "colab_type": "code",
    "id": "lMOeb2gcNWdB"
   },
   "outputs": [],
   "source": [
    "import numpy as np\n",
    "import pandas as pd\n",
    "import math\n",
    "import sys\n",
    "\n",
    "\n",
    "# import matplotlib.pyplot as plt\n",
    "# %matplotlib inline\n",
    "dim = 106"
   ]
  },
  {
   "cell_type": "markdown",
   "metadata": {
    "colab_type": "text",
    "id": "mLvVaOeANqmH"
   },
   "source": [
    "We only use one-hot-encoding feature here\n",
    "\n",
    "[Shell script usage](https://hackmd.io/@NeYbO-fDS5-UW6DQTmpVBA/HJIiFdZur?fbclid=IwAR0zGWEENLKgk3pmyng7CzUloZsHD0DDtYsNzumXzI2DIPZ9aoaluq-5WDA)"
   ]
  },
  {
   "cell_type": "code",
   "execution_count": 2,
   "metadata": {
    "colab": {},
    "colab_type": "code",
    "id": "U4uvD-jLNrWM"
   },
   "outputs": [],
   "source": [
    "def load_data(path_x_train, path_y_train, path_test):\n",
    "    x_train = pd.read_csv(path_x_train)\n",
    "    x_test = pd.read_csv(path_test)\n",
    "\n",
    "    x_train = x_train.values\n",
    "    x_test = x_test.values\n",
    "\n",
    "    y_train = pd.read_csv(path_y_train, header = None)\n",
    "    y_train = y_train.values\n",
    "    y_train = y_train.reshape(-1)\n",
    "\n",
    "    return x_train, y_train, x_test\n",
    "\n",
    "# Use np.clip to prevent overflow\n",
    "def sigmoid(z):\n",
    "    res = 1 / (1.0 + np.exp(-z))\n",
    "    return np.clip(res, 1e-6, 1-1e-6)"
   ]
  },
  {
   "cell_type": "markdown",
   "metadata": {
    "colab_type": "text",
    "id": "ClofrDqhQVU8"
   },
   "source": []
  },
  {
   "cell_type": "markdown",
   "metadata": {
    "colab_type": "text",
    "id": "4y2jsOxKQmbV"
   },
   "source": [
    "### Probabilistic generative model\n"
   ]
  },
  {
   "cell_type": "markdown",
   "metadata": {
    "colab_type": "text",
    "id": "BhRy2oxGRCdC"
   },
   "source": [
    "參考 [上課投影片](https://drive.google.com/file/d/1WKjqkJVPIxYh1REbzy6HeoGfZj-mj6NJ/view) P18 and P23\n",
    "\n"
   ]
  },
  {
   "cell_type": "code",
   "execution_count": 3,
   "metadata": {
    "colab": {},
    "colab_type": "code",
    "id": "SCoUqbnaRKn6"
   },
   "outputs": [],
   "source": [
    "def train(x_train, y_train):\n",
    "    cnt1 = 0\n",
    "    cnt2 = 0\n",
    "    \n",
    "    mu1 = np.zeros((dim,))\n",
    "    mu2 = np.zeros((dim,))\n",
    "    \n",
    "    for i in range(x_train.shape[0]):\n",
    "        if y_train[i] == 1:\n",
    "            cnt1 += 1\n",
    "            mu1 += x_train[i]\n",
    "        else:\n",
    "            cnt2 += 1\n",
    "            mu2 += x_train[i]\n",
    "    mu1 /= cnt1\n",
    "    mu2 /= cnt2\n",
    "\n",
    "    sigma1 = np.zeros((dim,dim))\n",
    "    sigma2 = np.zeros((dim,dim))\n",
    "    for i in range(x_train.shape[0]):\n",
    "        if y_train[i] == 1:\n",
    "            sigma1 += np.dot(np.transpose([x_train[i] - mu1]), [(x_train[i] - mu1)])\n",
    "        else:\n",
    "            sigma2 += np.dot(np.transpose([x_train[i] - mu2]), [(x_train[i] - mu2)])\n",
    "    sigma1 /= cnt1\n",
    "    sigma2 /= cnt2\n",
    "\n",
    "    \n",
    "    share_sigma = (cnt1 / x_train.shape[0]) * sigma1 + (cnt2 / x_train.shape[0]) * sigma2\n",
    "    return mu1, mu2, share_sigma, cnt1, cnt2"
   ]
  },
  {
   "cell_type": "code",
   "execution_count": 4,
   "metadata": {},
   "outputs": [],
   "source": [
    "def normalize(x_train, x_test):\n",
    "    \n",
    "    x_all = np.concatenate((x_train, x_test), axis = 0)\n",
    "    mean = np.mean(x_all, axis = 0)\n",
    "    std = np.std(x_all, axis = 0)\n",
    "\n",
    "    index = [0, 1, 3, 4, 5]\n",
    "    mean_vec = np.zeros(x_all.shape[1])\n",
    "    std_vec = np.ones(x_all.shape[1])\n",
    "    mean_vec[index] = mean[index]\n",
    "    std_vec[index] = std[index]\n",
    "\n",
    "    x_all_nor = (x_all - mean_vec) / std_vec\n",
    "\n",
    "    x_train_nor = x_all_nor[0:x_train.shape[0]]\n",
    "    x_test_nor = x_all_nor[x_train.shape[0]:]\n",
    "\n",
    "    return x_train_nor, x_test_nor"
   ]
  },
  {
   "cell_type": "markdown",
   "metadata": {
    "colab_type": "text",
    "id": "-PzNTdvwVHnI"
   },
   "source": [
    "參考 [上課投影片](https://drive.google.com/file/d/1WKjqkJVPIxYh1REbzy6HeoGfZj-mj6NJ/view) P33\n",
    "\n"
   ]
  },
  {
   "cell_type": "code",
   "execution_count": 5,
   "metadata": {
    "colab": {},
    "colab_type": "code",
    "id": "p9LozVuyVHvk"
   },
   "outputs": [],
   "source": [
    "def predict(x_test, mu1, mu2, share_sigma, N1, N2):\n",
    "    sigma_inverse = np.linalg.inv(share_sigma)\n",
    "\n",
    "    w = np.dot( (mu1-mu2), sigma_inverse)\n",
    "    b = (-0.5) * np.dot(np.dot(mu1.T, sigma_inverse), mu1) + (0.5) * np.dot(np.dot(mu2.T, sigma_inverse), mu2) + np.log(float(N1)/N2)\n",
    "\n",
    "    z = np.dot(w, x_test.T) + b\n",
    "    pred = sigmoid(z)\n",
    "    return pred\n",
    "\n",
    "def load_par(par):\n",
    "    par = np.load(par)\n",
    "    return par[0,::], par[1,::], par[2,0], par[3,0], par[4::,::]"
   ]
  },
  {
   "cell_type": "markdown",
   "metadata": {
    "colab_type": "text",
    "id": "EZ5onx1WVWuj"
   },
   "source": []
  },
  {
   "cell_type": "code",
   "execution_count": 6,
   "metadata": {
    "colab": {},
    "colab_type": "code",
    "id": "OxVyr8KZVW5u"
   },
   "outputs": [],
   "source": [
    "if __name__ == '__main__':\n",
    "\n",
    "    if sys.argv[5] == '--test':\n",
    "        x_train, y_train, x_test = load_data(sys.argv[1], sys.argv[2], sys.argv[3])\n",
    "        mu1, mu2, N1, N2, shared_sigma = load_par('gen_mu12N12sigma.npy')\n",
    "        pred_y = predict(x_test, mu1, mu2, shared_sigma, N1, N2)\n",
    "        pred_y = (pred_y > 0.5).astype(int)\n",
    "        output = zip(list(range(1,len(x_test)+1)), pred_y.ravel())\n",
    "        output = pd.DataFrame(output, columns = ['id','label'])\n",
    "        output_name = sys.argv[4]\n",
    "        output.to_csv(output_name, index=False)\n",
    "\n",
    "    else sys.argv[5] == '--train':\n",
    "        path_x_train= './data/X_train'\n",
    "        path_y_train='./data/Y_train'\n",
    "        path_test='./data/X_test'\n",
    "        x_train, y_train, x_test = load_data(path_x_train, path_y_train, path_test)\n",
    "\n",
    "        mu1, mu2, shared_sigma, N1, N2 = train(x_train, y_train)\n",
    "        N1 = N1* np.ones(dim)\n",
    "        N2 = N2* np.ones(dim)\n",
    "        par = np.vstack((mu1,mu2,N1,N2,shared_sigma))\n",
    "        np.save('gen_mu12N12sigma.npy', par)\n",
    "\n",
    "#     y = predict(x_train, mu1, mu2, shared_sigma, N1, N2)\n",
    "#     y = np.around(y)\n",
    "#     result = (y_train == y)\n",
    "    \n",
    "#     print('Train acc = %f' % (float(result.sum()) / result.shape[0]))\n",
    "    \n",
    "    #predict x_test    \n",
    "#     pred_y = predict(x_test, mu1, mu2, shared_sigma, N1, N2)\n",
    "#     pred_y = (pred_y > 0.5).astype(int)\n",
    "    \n",
    "#     output = zip(list(range(1,len(x_test)+1)), pred_y.ravel())\n",
    "#     output = pd.DataFrame(output, columns = ['id','label'])\n",
    "#     output_name = './output/gen_tutorial_normalize.csv'\n",
    "#     output.to_csv(output_name, index=False)"
   ]
  },
  {
   "cell_type": "markdown",
   "metadata": {
    "colab_type": "text",
    "id": "w3aDCdTxXo-B"
   },
   "source": [
    "### Tip for math problem\n",
    "[p1](https://people.eecs.berkeley.edu/~jrs/189/exam/mids14.pdf)  \n",
    "[p2&3](https://people.eecs.berkeley.edu/~jordan/courses/260-spring10/other-readings/chapter13.pdf)  \n",
    "[p3](https://stats.stackexchange.com/questions/351549/maximum-likelihood-estimators-multivariate-gaussian)"
   ]
  }
 ],
 "metadata": {
  "colab": {
   "collapsed_sections": [],
   "name": "MLhw2.ipynb",
   "provenance": []
  },
  "kernelspec": {
   "display_name": "Python [conda env:python3.6] *",
   "language": "python",
   "name": "conda-env-python3.6-py"
  },
  "language_info": {
   "codemirror_mode": {
    "name": "ipython",
    "version": 3
   },
   "file_extension": ".py",
   "mimetype": "text/x-python",
   "name": "python",
   "nbconvert_exporter": "python",
   "pygments_lexer": "ipython3",
   "version": "3.6.9"
  }
 },
 "nbformat": 4,
 "nbformat_minor": 1
}
